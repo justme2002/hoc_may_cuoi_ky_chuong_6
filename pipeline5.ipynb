{
 "cells": [
  {
   "cell_type": "code",
   "execution_count": 2,
   "id": "86ecdce5",
   "metadata": {},
   "outputs": [],
   "source": [
    "import pandas as pd\n",
    "from sklearn.model_selection import train_test_split\n",
    "from sklearn.preprocessing import StandardScaler, LabelEncoder\n",
    "from sklearn.decomposition import PCA\n",
    "from sklearn.tree import DecisionTreeClassifier\n",
    "from sklearn.metrics import precision_score, recall_score, f1_score, confusion_matrix, accuracy_score"
   ]
  },
  {
   "cell_type": "code",
   "execution_count": 60,
   "id": "ec805085",
   "metadata": {},
   "outputs": [
    {
     "name": "stdout",
     "output_type": "stream",
     "text": [
      "     0    1    2    3    4    5    6         7\n",
      "0  0.0  1.0  0.0  0.0  0.0  0.0  0.0   38480.0\n",
      "1  0.0  1.0  0.0  0.0  0.0  0.0  0.0   55000.0\n",
      "2  0.0  1.0  0.0  0.0  0.0  0.0  0.0  157500.0\n",
      "3  0.0  0.0  1.0  0.0  0.0  0.0  0.0   35360.0\n",
      "4  1.0  0.0  0.0  0.0  0.0  0.0  0.0  180000.0\n"
     ]
    }
   ],
   "source": [
    "# Read the entire dataset\n",
    "from sklearn.compose import ColumnTransformer\n",
    "from sklearn.preprocessing import OneHotEncoder\n",
    "\n",
    "\n",
    "data = pd.read_csv('dataset.csv')\n",
    "df_filtered = data[['normalized_salary', 'formatted_work_type']].dropna().copy()\n",
    "\n",
    "column_transformer = ColumnTransformer(\n",
    "    transformers=[\n",
    "        ('encoder', OneHotEncoder(), ['formatted_work_type'])  # Replace with your categorical column names\n",
    "    ],\n",
    "    remainder='passthrough'  # Keep other columns as is\n",
    ")\n",
    "\n",
    "# Transform the data\n",
    "df_encoded = column_transformer.fit_transform(df_filtered)\n",
    "\n",
    "# Convert sparse matrix to dense\n",
    "df_encoded = df_encoded.toarray()\n",
    "\n",
    "# Convert to DataFrame if needed\n",
    "df_encoded = pd.DataFrame(df_encoded)\n",
    "\n",
    "print(df_encoded.head())\n"
   ]
  },
  {
   "cell_type": "code",
   "execution_count": 62,
   "id": "fb373921",
   "metadata": {},
   "outputs": [],
   "source": [
    "# Step 2: reduce demensions using PCA\n",
    "pca = PCA(n_components=0.95)  # Keep 95% of variance\n",
    "data = pca.fit_transform(df_encoded)\n"
   ]
  },
  {
   "cell_type": "code",
   "execution_count": 64,
   "id": "5b069a30",
   "metadata": {},
   "outputs": [
    {
     "name": "stdout",
     "output_type": "stream",
     "text": [
      "   normalized_salary formatted_work_type  cluster\n",
      "0            38480.0           Full-time        0\n",
      "1            55000.0           Full-time        0\n",
      "2           157500.0           Full-time        0\n",
      "3            35360.0          Internship        0\n",
      "4           180000.0            Contract        0\n"
     ]
    }
   ],
   "source": [
    "# step 3.1: unsupervised learning k-means clustering return cluster labels\n",
    "from sklearn.cluster import KMeans\n",
    "\n",
    "kmeans = KMeans(n_clusters=3, random_state=42)  # Choose the number of clusters\n",
    "kmeans.fit(data)\n",
    "\n",
    "# Add cluster labels to the original DataFrame\n",
    "df_filtered['cluster'] = kmeans.labels_\n",
    "\n",
    "print(df_filtered.head())\n"
   ]
  },
  {
   "cell_type": "code",
   "execution_count": 56,
   "id": "d746a422",
   "metadata": {},
   "outputs": [],
   "source": [
    "# step 3.2. unsupervised learning DBSCAN clustering return cluster labels, outliers flag\n",
    "from sklearn.cluster import DBSCAN\n",
    "\n",
    "dbscan = DBSCAN(eps=0.5, min_samples=5)  # Adjust parameters as needed\n",
    "\n",
    "dbscan.fit(data)\n",
    "\n",
    "# Add cluster labels and outliers flag to the original DataFrame\n",
    "\n",
    "df_filtered['dbscan_cluster'] = dbscan.labels_\n",
    "df_filtered['outlier'] = df_filtered['dbscan_cluster'] == -1  # Mark outliers as True\n"
   ]
  },
  {
   "cell_type": "code",
   "execution_count": 57,
   "id": "204512af",
   "metadata": {},
   "outputs": [
    {
     "name": "stdout",
     "output_type": "stream",
     "text": [
      "   normalized_salary formatted_work_type  cluster  dbscan_cluster  outlier  \\\n",
      "0            38480.0           Full-time        0               0    False   \n",
      "1            55000.0           Full-time        0               1    False   \n",
      "2           157500.0           Full-time        0               2    False   \n",
      "3            35360.0          Internship        0               3    False   \n",
      "4           180000.0            Contract        0               4    False   \n",
      "\n",
      "   gmm_prob_0  gmm_prob_1  gmm_prob_2  \n",
      "0    0.999988    0.000012         0.0  \n",
      "1    0.999991    0.000009         0.0  \n",
      "2    0.999989    0.000011         0.0  \n",
      "3    0.999988    0.000012         0.0  \n",
      "4    0.999982    0.000018         0.0  \n"
     ]
    }
   ],
   "source": [
    "# Step 3.3. unsupervised learning gaussian mixture models return probability features\n",
    "\n",
    "from sklearn.mixture import GaussianMixture\n",
    "\n",
    "gmm = GaussianMixture(n_components=3, random_state=42)  # Choose the number of components\n",
    "\n",
    "gmm.fit(data)\n",
    "\n",
    "# Get the probabilities for each component\n",
    "probs = gmm.predict_proba(data)\n",
    "\n",
    "# Add probabilities to the original DataFrame\n",
    "for i in range(probs.shape[1]):\n",
    "    df_filtered[f'gmm_prob_{i}'] = probs[:, i]\n",
    "    \n",
    "# Print the first few rows of the DataFrame with GMM probabilities\n",
    "print(df_filtered.head())\n",
    "\n",
    "\n"
   ]
  },
  {
   "cell_type": "code",
   "execution_count": null,
   "id": "ec422054",
   "metadata": {},
   "outputs": [
    {
     "name": "stdout",
     "output_type": "stream",
     "text": [
      "Accuracy: 0.9996591683708248\n",
      "Precision: 0.9993184529078492\n",
      "Recall: 0.9996591683708248\n",
      "F1 Score: 0.9994887816027371\n",
      "Confusion Matrix:\n",
      " [[5866    0    0]\n",
      " [   1    0    0]\n",
      " [   1    0    0]]\n",
      "   cluster  dbscan_cluster  outlier  gmm_prob_0  gmm_prob_1  gmm_prob_2\n",
      "0        0               0    False    0.999988    0.000012         0.0\n",
      "1        0               1    False    0.999991    0.000009         0.0\n",
      "2        0               2    False    0.999989    0.000011         0.0\n",
      "3        0               3    False    0.999988    0.000012         0.0\n",
      "4        0               4    False    0.999982    0.000018         0.0\n"
     ]
    },
    {
     "name": "stderr",
     "output_type": "stream",
     "text": [
      "c:\\Users\\Admin\\anaconda3\\Lib\\site-packages\\sklearn\\metrics\\_classification.py:1517: UndefinedMetricWarning: Precision is ill-defined and being set to 0.0 in labels with no predicted samples. Use `zero_division` parameter to control this behavior.\n",
      "  _warn_prf(average, modifier, f\"{metric.capitalize()} is\", len(result))\n"
     ]
    }
   ],
   "source": [
    "# step 4: augment (Dữ liệu đã giảm chiều + cluster info (đặc trưng mới))\n",
    "\n",
    "df_augmented = df_filtered.copy()\n",
    "df_augmented = df_augmented.drop(columns=['normalized_salary', 'formatted_work_type'])  # Drop original columns if needed\n",
    "print(df_augmented.head())\n"
   ]
  },
  {
   "cell_type": "code",
   "execution_count": 70,
   "id": "bc50dc5e",
   "metadata": {},
   "outputs": [
    {
     "name": "stdout",
     "output_type": "stream",
     "text": [
      "Accuracy: 0.9996591683708248\n",
      "Precision: 0.9993184529078492\n",
      "Recall: 0.9996591683708248\n",
      "F1 Score: 0.9994887816027371\n",
      "Confusion Matrix:\n",
      " [[5866    0    0]\n",
      " [   1    0    0]\n",
      " [   1    0    0]]\n"
     ]
    },
    {
     "name": "stderr",
     "output_type": "stream",
     "text": [
      "c:\\Users\\Admin\\anaconda3\\Lib\\site-packages\\sklearn\\metrics\\_classification.py:1517: UndefinedMetricWarning: Precision is ill-defined and being set to 0.0 in labels with no predicted samples. Use `zero_division` parameter to control this behavior.\n",
      "  _warn_prf(average, modifier, f\"{metric.capitalize()} is\", len(result))\n"
     ]
    }
   ],
   "source": [
    "# step 5: supervised learning (train-test split, scale, train, predict, evaluate)\n",
    "from sklearn.metrics import classification_report\n",
    "\n",
    "\n",
    "X = df_augmented.drop(columns=['cluster'])  # Features\n",
    "y = df_augmented['cluster']  # Target variable\n",
    "\n",
    "X_train, X_test, y_train, y_test = train_test_split(X, y, test_size=0.2, random_state=42)\n",
    "\n",
    "scaler = StandardScaler()\n",
    "X_train_scaled = scaler.fit_transform(X_train)\n",
    "X_test_scaled = scaler.transform(X_test)\n",
    "\n",
    "# Train a Decision Tree Classifier\n",
    "clf = DecisionTreeClassifier(random_state=42)\n",
    "clf.fit(X_train_scaled, y_train)\n",
    "\n",
    "# Make predictions\n",
    "y_pred = clf.predict(X_test_scaled)\n",
    "# Evaluate the model\n",
    "print(\"Accuracy:\", accuracy_score(y_test, y_pred))\n",
    "print(\"Precision:\", precision_score(y_test, y_pred, average='weighted'))\n",
    "print(\"Recall:\", recall_score(y_test, y_pred, average='weighted'))\n",
    "print(\"F1 Score:\", f1_score(y_test, y_pred, average='weighted'))\n",
    "print(\"Confusion Matrix:\\n\", confusion_matrix(y_test, y_pred))\n",
    "# Print the first few rows of the augmented DataFrame"
   ]
  }
 ],
 "metadata": {
  "kernelspec": {
   "display_name": "base",
   "language": "python",
   "name": "python3"
  },
  "language_info": {
   "codemirror_mode": {
    "name": "ipython",
    "version": 3
   },
   "file_extension": ".py",
   "mimetype": "text/x-python",
   "name": "python",
   "nbconvert_exporter": "python",
   "pygments_lexer": "ipython3",
   "version": "3.11.7"
  }
 },
 "nbformat": 4,
 "nbformat_minor": 5
}
