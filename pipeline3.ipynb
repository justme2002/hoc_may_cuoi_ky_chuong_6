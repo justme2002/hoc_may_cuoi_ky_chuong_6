{
 "cells": [
  {
   "cell_type": "code",
   "execution_count": null,
   "id": "c3c58760-d62a-4c79-8e29-eb7d0acdda83",
   "metadata": {},
   "outputs": [],
   "source": [
    "import pandas as pd\n",
    "from sklearn.preprocessing import StandardScaler, OneHotEncoder\n",
    "from sklearn.compose import ColumnTransformer\n",
    "from sklearn.pipeline import Pipeline\n",
    "from sklearn.cluster import KMeans, DBSCAN\n",
    "from sklearn.mixture import GaussianMixture\n"
   ]
  },
  {
   "cell_type": "code",
   "execution_count": 2,
   "id": "12b5c68d-0e78-4644-8212-094b36f50cc9",
   "metadata": {},
   "outputs": [],
   "source": [
    "df = pd.read_csv('dataset.csv')"
   ]
  },
  {
   "cell_type": "code",
   "execution_count": 3,
   "id": "c4d4d9b2-98e6-4fb1-b36f-dffa8686d7e0",
   "metadata": {},
   "outputs": [],
   "source": [
    "df_filtered = df[['normalized_salary', 'formatted_work_type']].dropna().copy()"
   ]
  },
  {
   "cell_type": "code",
   "execution_count": 30,
   "id": "bc38f628-6272-4a9a-84b7-fa26dc60bd7f",
   "metadata": {},
   "outputs": [],
   "source": [
    "# Encode categorical columns\n",
    "column_transformer = ColumnTransformer(\n",
    "    transformers=[\n",
    "        ('encoder', OneHotEncoder(), ['formatted_work_type'])  # Replace with your categorical column names\n",
    "    ],\n",
    "    remainder='passthrough'  # Keep other columns as is\n",
    ")\n",
    "\n",
    "# Transform the data\n",
    "df_encoded = column_transformer.fit_transform(df_filtered)\n",
    "\n",
    "# Convert to DataFrame if needed\n",
    "df_encoded = pd.DataFrame(df_encoded)\n",
    "\n",
    "# Ensure all features are numerical\n",
    "df_filtered.reset_index(drop=True, inplace=True)\n",
    "df_encoded.reset_index(drop=True, inplace=True)\n",
    "\n",
    "# Combine encoded features with other numerical columns\n",
    "df_combined = pd.concat([df_encoded, df_filtered[['normalized_salary']]], axis=1) "
   ]
  },
  {
   "cell_type": "code",
   "execution_count": 46,
   "id": "c74b0716-4f71-43b7-ad75-fbfc1810a945",
   "metadata": {},
   "outputs": [],
   "source": [
    "kmeans = KMeans(n_clusters=3, random_state=42)\n",
    "df_combined['Cluster_KMeans'] = kmeans.fit_predict(df_encoded)"
   ]
  },
  {
   "cell_type": "code",
   "execution_count": 47,
   "id": "ad0dcef4-0dc4-484a-a4fb-b98f2604ac19",
   "metadata": {},
   "outputs": [],
   "source": [
    "dbscan = DBSCAN(eps=0.5, min_samples=5)\n",
    "df_combined['Cluster_DBSCAN'] = dbscan.fit_predict(df_encoded)\n",
    "df_combined['Outlier_Flag'] = (df_filtered['Cluster_DBSCAN'] == -1).astype(int)"
   ]
  },
  {
   "cell_type": "code",
   "execution_count": 48,
   "id": "ac458a13-a664-4553-a0bf-17794791a78e",
   "metadata": {},
   "outputs": [],
   "source": [
    "gmm = GaussianMixture(n_components=3, random_state=42)\n",
    "gmm.fit(df_encoded)\n",
    "df_combined['Cluster_GMM'] = gmm.predict(df_encoded)\n",
    "df_combined['Cluster_Prob_GMM'] = gmm.predict_proba(df_encoded).max(axis=1)"
   ]
  },
  {
   "cell_type": "code",
   "execution_count": 49,
   "id": "522ab331-8cd3-4855-abfc-e6a3eb41b307",
   "metadata": {},
   "outputs": [
    {
     "name": "stdout",
     "output_type": "stream",
     "text": [
      "   normalized_salary formatted_work_type  Cluster_KMeans  Cluster_DBSCAN  \\\n",
      "0            38480.0           Full-time               0               0   \n",
      "1            55000.0           Full-time               0               1   \n",
      "2           157500.0           Full-time               0               2   \n",
      "3            35360.0          Internship               0              -1   \n",
      "4           180000.0            Contract               0              -1   \n",
      "\n",
      "   Outlier_Flag  Cluster_GMM  Cluster_Prob_GMM  \n",
      "0             0            1               1.0  \n",
      "1             0            1               1.0  \n",
      "2             0            1               1.0  \n",
      "3             1            0               1.0  \n",
      "4             1            0               1.0  \n"
     ]
    }
   ],
   "source": [
    "print(df_filtered.head())\n"
   ]
  },
  {
   "cell_type": "code",
   "execution_count": 50,
   "id": "c5a647fa-b14a-471b-8967-85685b8caa44",
   "metadata": {},
   "outputs": [
    {
     "name": "stdout",
     "output_type": "stream",
     "text": [
      "      job_id                                  company_name  \\\n",
      "0     921716                         Corcoran Sawyer Smith   \n",
      "1   10998357                        The National Exemplar    \n",
      "2   23221523                        Abrams Fensterman, LLP   \n",
      "3   91700727                     Downtown Raleigh Alliance   \n",
      "4  103254301                                    Raw Cereal   \n",
      "5  266566927                            Revesco Properties   \n",
      "6  266825034                            Recruitment Design   \n",
      "7  280496925                   Washington State University   \n",
      "8  445337908                           Food Bank of Alaska   \n",
      "9  606178500  Jung & Vassar PC Attorneys At Law A Law Corp   \n",
      "\n",
      "                                               title  max_salary pay_period  \\\n",
      "0                              Marketing Coordinator        20.0     HOURLY   \n",
      "1                        Assitant Restaurant Manager     65000.0     YEARLY   \n",
      "2  Senior Elder Law / Trusts and Estates Associat...    175000.0     YEARLY   \n",
      "3           Economic Development and Planning Intern        20.0     HOURLY   \n",
      "4                                           Producer    300000.0     YEARLY   \n",
      "5                     Marketing & Office Coordinator     75000.0     YEARLY   \n",
      "6                        Software Support Specialist     65000.0     YEARLY   \n",
      "7  Coordinator for Multicultural Student Organiza...      4817.0    MONTHLY   \n",
      "8                            Chief Operating Officer    110000.0     YEARLY   \n",
      "9                                 Associate Attorney    135000.0     YEARLY   \n",
      "\n",
      "            location  company_id  views  med_salary  min_salary  ...  \\\n",
      "0      Princeton, NJ     2774458     20         NaN        17.0  ...   \n",
      "1     Cincinnati, OH    64896719      8         NaN     45000.0  ...   \n",
      "2  New Hyde Park, NY      766262     16         NaN    140000.0  ...   \n",
      "3        Raleigh, NC     1481176      9         NaN        14.0  ...   \n",
      "4      United States    81942316      7         NaN     60000.0  ...   \n",
      "5         Denver, CO     8577252     13         NaN     55000.0  ...   \n",
      "6         McLean, VA    99212509      0         NaN     60000.0  ...   \n",
      "7        Pullman, WA      166875      7         NaN      4061.0  ...   \n",
      "8      Anchorage, AK     8849197      7         NaN     90000.0  ...   \n",
      "9    Kailua-Kona, HI    53812339      3         NaN    105000.0  ...   \n",
      "\n",
      "     application_type   listed_time  sponsored   work_type currency  \\\n",
      "0  ComplexOnsiteApply  1.713400e+12          0   FULL_TIME      USD   \n",
      "1  ComplexOnsiteApply  1.713280e+12          0   FULL_TIME      USD   \n",
      "2  ComplexOnsiteApply  1.712900e+12          0   FULL_TIME      USD   \n",
      "3  ComplexOnsiteApply  1.713460e+12          0  INTERNSHIP      USD   \n",
      "4   SimpleOnsiteApply  1.712860e+12          0    CONTRACT      USD   \n",
      "5   SimpleOnsiteApply  1.713460e+12          0   FULL_TIME      USD   \n",
      "6  ComplexOnsiteApply  1.712860e+12          0   FULL_TIME      USD   \n",
      "7        OffsiteApply  1.713460e+12          0   FULL_TIME      USD   \n",
      "8  ComplexOnsiteApply  1.713550e+12          0   FULL_TIME      USD   \n",
      "9  ComplexOnsiteApply  1.712440e+12          0   FULL_TIME      USD   \n",
      "\n",
      "  Cluster_KMeans  Cluster_DBSCAN  Outlier_Flag Cluster_GMM Cluster_Prob_GMM  \n",
      "0              0               0             0           0              1.0  \n",
      "1              0               1             0           0              1.0  \n",
      "2              0               2             0           0              1.0  \n",
      "3              0              -1             1           0              1.0  \n",
      "4              0              -1             1           0              1.0  \n",
      "5              0               3             0           0              1.0  \n",
      "6              0               4             0           0              1.0  \n",
      "7              0              -1             1           0              1.0  \n",
      "8              0               5             0           0              1.0  \n",
      "9              0               6             0           0              1.0  \n",
      "\n",
      "[10 rows x 25 columns]\n"
     ]
    }
   ],
   "source": [
    "# 1. Kết hợp các cột mới vào dữ liệu gốc\n",
    "df_augmented = df.copy()  # Tạo bản sao của df gốc\n",
    "df_augmented = df_augmented.drop(columns=['normalized_salary', 'formatted_work_type'])  # Drop original columns if needed\n",
    "\n",
    "# 2. Thêm các cột từ kết quả phân cụm vào df gốc\n",
    "df_augmented['Cluster_KMeans'] = df_combined['Cluster_KMeans']\n",
    "df_augmented['Cluster_DBSCAN'] = df_combined['Cluster_DBSCAN']\n",
    "df_augmented['Outlier_Flag'] = df_combined['Outlier_Flag']\n",
    "df_augmented['Cluster_GMM'] = df_combined['Cluster_GMM']\n",
    "df_augmented['Cluster_Prob_GMM'] = df_combined['Cluster_Prob_GMM']\n",
    "\n",
    "\n",
    "# 3. Kiểm tra lại dữ liệu đã được kết hợp\n",
    "print(df_augmented.head(10))"
   ]
  },
  {
   "cell_type": "code",
   "execution_count": 39,
   "id": "c4381521",
   "metadata": {},
   "outputs": [
    {
     "name": "stdout",
     "output_type": "stream",
     "text": [
      "Accuracy: 0.9998295841854125\n",
      "Precision: 0.9997443762781186\n",
      "Recall: 0.9998295841854125\n",
      "F1 Score: 0.9997727789138833\n",
      "Confusion Matrix:\n",
      " [[5866    0    0]\n",
      " [   0    1    0]\n",
      " [   0    1    0]]\n"
     ]
    },
    {
     "name": "stderr",
     "output_type": "stream",
     "text": [
      "c:\\Users\\Admin\\anaconda3\\Lib\\site-packages\\sklearn\\metrics\\_classification.py:1517: UndefinedMetricWarning: Precision is ill-defined and being set to 0.0 in labels with no predicted samples. Use `zero_division` parameter to control this behavior.\n",
      "  _warn_prf(average, modifier, f\"{metric.capitalize()} is\", len(result))\n"
     ]
    }
   ],
   "source": [
    "# step 5: supervised learning (train-test split, scale, train, predict, evaluate)\n",
    "from sklearn.model_selection import train_test_split\n",
    "from sklearn.tree import DecisionTreeClassifier\n",
    "from sklearn.metrics import precision_score, recall_score, f1_score, confusion_matrix, accuracy_score\n",
    "\n",
    "X = df_augmented[['Cluster_KMeans', 'Cluster_DBSCAN', 'Outlier_Flag', 'Cluster_GMM', 'Cluster_Prob_GMM']]\n",
    "y = df_augmented['Cluster_KMeans']  # Target variable\n",
    "\n",
    "X_train, X_test, y_train, y_test = train_test_split(X, y, test_size=0.2, random_state=42)\n",
    "\n",
    "scaler = StandardScaler()\n",
    "X_train_scaled = scaler.fit_transform(X_train)\n",
    "X_test_scaled = scaler.transform(X_test)\n",
    "\n",
    "# Train a Decision Tree Classifier\n",
    "clf = DecisionTreeClassifier(random_state=42)\n",
    "clf.fit(X_train_scaled, y_train)\n",
    "\n",
    "# Make predictions\n",
    "y_pred = clf.predict(X_test_scaled)\n",
    "# Evaluate the model\n",
    "print(\"Accuracy:\", accuracy_score(y_test, y_pred))\n",
    "print(\"Precision:\", precision_score(y_test, y_pred, average='weighted'))\n",
    "print(\"Recall:\", recall_score(y_test, y_pred, average='weighted'))\n",
    "print(\"F1 Score:\", f1_score(y_test, y_pred, average='weighted'))\n",
    "print(\"Confusion Matrix:\\n\", confusion_matrix(y_test, y_pred))\n",
    "# Print the first few rows of the augmented DataFrame\n"
   ]
  }
 ],
 "metadata": {
  "kernelspec": {
   "display_name": "base",
   "language": "python",
   "name": "python3"
  },
  "language_info": {
   "codemirror_mode": {
    "name": "ipython",
    "version": 3
   },
   "file_extension": ".py",
   "mimetype": "text/x-python",
   "name": "python",
   "nbconvert_exporter": "python",
   "pygments_lexer": "ipython3",
   "version": "3.11.7"
  }
 },
 "nbformat": 4,
 "nbformat_minor": 5
}
