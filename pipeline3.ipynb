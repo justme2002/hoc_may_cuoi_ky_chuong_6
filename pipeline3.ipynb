{
 "cells": [
  {
   "cell_type": "code",
   "execution_count": 1,
   "id": "c3c58760-d62a-4c79-8e29-eb7d0acdda83",
   "metadata": {},
   "outputs": [],
   "source": [
    "import pandas as pd\n",
    "from sklearn.preprocessing import StandardScaler, OneHotEncoder\n",
    "from sklearn.compose import ColumnTransformer\n",
    "from sklearn.pipeline import Pipeline\n",
    "from sklearn.cluster import KMeans, DBSCAN\n",
    "from sklearn.mixture import GaussianMixture\n",
    "import numpy as np"
   ]
  },
  {
   "cell_type": "code",
   "execution_count": 2,
   "id": "12b5c68d-0e78-4644-8212-094b36f50cc9",
   "metadata": {},
   "outputs": [],
   "source": [
    "df = pd.read_csv('postings.csv')"
   ]
  },
  {
   "cell_type": "code",
   "execution_count": 3,
   "id": "c4d4d9b2-98e6-4fb1-b36f-dffa8686d7e0",
   "metadata": {},
   "outputs": [],
   "source": [
    "df_filtered = df[['normalized_salary', 'formatted_work_type']].dropna().copy()"
   ]
  },
  {
   "cell_type": "code",
   "execution_count": 4,
   "id": "bc38f628-6272-4a9a-84b7-fa26dc60bd7f",
   "metadata": {},
   "outputs": [],
   "source": [
    "preprocessor = ColumnTransformer([\n",
    "    ('num', StandardScaler(), ['normalized_salary']),\n",
    "    ('cat', OneHotEncoder(), ['formatted_work_type'])\n",
    "])"
   ]
  },
  {
   "cell_type": "code",
   "execution_count": 7,
   "id": "57197d35-7df3-44e4-9781-27bcaa21378c",
   "metadata": {},
   "outputs": [],
   "source": [
    "X_processed = preprocessor.fit_transform(df_filtered)\n",
    "if hasattr(X_processed, \"toarray\"):\n",
    "    X_processed = X_processed.toarray()"
   ]
  },
  {
   "cell_type": "code",
   "execution_count": 8,
   "id": "c74b0716-4f71-43b7-ad75-fbfc1810a945",
   "metadata": {},
   "outputs": [],
   "source": [
    "kmeans = KMeans(n_clusters=3, random_state=42)\n",
    "df_filtered['Cluster_KMeans'] = kmeans.fit_predict(X_processed)"
   ]
  },
  {
   "cell_type": "code",
   "execution_count": 9,
   "id": "ad0dcef4-0dc4-484a-a4fb-b98f2604ac19",
   "metadata": {},
   "outputs": [],
   "source": [
    "dbscan = DBSCAN(eps=0.5, min_samples=5)\n",
    "df_filtered['Cluster_DBSCAN'] = dbscan.fit_predict(X_processed)\n",
    "df_filtered['Outlier_Flag'] = (df_filtered['Cluster_DBSCAN'] == -1).astype(int)"
   ]
  },
  {
   "cell_type": "code",
   "execution_count": 10,
   "id": "ac458a13-a664-4553-a0bf-17794791a78e",
   "metadata": {},
   "outputs": [],
   "source": [
    "gmm = GaussianMixture(n_components=3, random_state=42)\n",
    "gmm.fit(X_processed)\n",
    "df_filtered['Cluster_GMM'] = gmm.predict(X_processed)\n",
    "df_filtered['Cluster_Prob_GMM'] = gmm.predict_proba(X_processed).max(axis=1)"
   ]
  },
  {
   "cell_type": "code",
   "execution_count": 11,
   "id": "522ab331-8cd3-4855-abfc-e6a3eb41b307",
   "metadata": {},
   "outputs": [
    {
     "name": "stdout",
     "output_type": "stream",
     "text": [
      "   normalized_salary formatted_work_type  Cluster_KMeans  Cluster_DBSCAN  \\\n",
      "0            38480.0           Full-time               0               0   \n",
      "1            55000.0           Full-time               0               0   \n",
      "2           157500.0           Full-time               0               0   \n",
      "3            35360.0          Internship               2               1   \n",
      "4           180000.0            Contract               2               2   \n",
      "\n",
      "   Outlier_Flag  Cluster_GMM  Cluster_Prob_GMM  \n",
      "0             0            0          0.999991  \n",
      "1             0            0          0.999993  \n",
      "2             0            0          0.999993  \n",
      "3             0            2          1.000000  \n",
      "4             0            2          1.000000  \n"
     ]
    }
   ],
   "source": [
    "print(df_filtered.head())\n"
   ]
  },
  {
   "cell_type": "code",
   "execution_count": 12,
   "id": "c5a647fa-b14a-471b-8967-85685b8caa44",
   "metadata": {},
   "outputs": [
    {
     "name": "stdout",
     "output_type": "stream",
     "text": [
      "      job_id                                  company_name  \\\n",
      "0     921716                         Corcoran Sawyer Smith   \n",
      "1   10998357                        The National Exemplar    \n",
      "2   23221523                        Abrams Fensterman, LLP   \n",
      "3   91700727                     Downtown Raleigh Alliance   \n",
      "4  103254301                                    Raw Cereal   \n",
      "5  266566927                            Revesco Properties   \n",
      "6  266825034                            Recruitment Design   \n",
      "7  280496925                   Washington State University   \n",
      "8  445337908                           Food Bank of Alaska   \n",
      "9  606178500  Jung & Vassar PC Attorneys At Law A Law Corp   \n",
      "\n",
      "                                               title  max_salary pay_period  \\\n",
      "0                              Marketing Coordinator        20.0     HOURLY   \n",
      "1                        Assitant Restaurant Manager     65000.0     YEARLY   \n",
      "2  Senior Elder Law / Trusts and Estates Associat...    175000.0     YEARLY   \n",
      "3           Economic Development and Planning Intern        20.0     HOURLY   \n",
      "4                                           Producer    300000.0     YEARLY   \n",
      "5                     Marketing & Office Coordinator     75000.0     YEARLY   \n",
      "6                        Software Support Specialist     65000.0     YEARLY   \n",
      "7  Coordinator for Multicultural Student Organiza...      4817.0    MONTHLY   \n",
      "8                            Chief Operating Officer    110000.0     YEARLY   \n",
      "9                                 Associate Attorney    135000.0     YEARLY   \n",
      "\n",
      "            location  company_id  views  med_salary  min_salary  ...  \\\n",
      "0      Princeton, NJ     2774458     20         NaN        17.0  ...   \n",
      "1     Cincinnati, OH    64896719      8         NaN     45000.0  ...   \n",
      "2  New Hyde Park, NY      766262     16         NaN    140000.0  ...   \n",
      "3        Raleigh, NC     1481176      9         NaN        14.0  ...   \n",
      "4      United States    81942316      7         NaN     60000.0  ...   \n",
      "5         Denver, CO     8577252     13         NaN     55000.0  ...   \n",
      "6         McLean, VA    99212509      0         NaN     60000.0  ...   \n",
      "7        Pullman, WA      166875      7         NaN      4061.0  ...   \n",
      "8      Anchorage, AK     8849197      7         NaN     90000.0  ...   \n",
      "9    Kailua-Kona, HI    53812339      3         NaN    105000.0  ...   \n",
      "\n",
      "    listed_time  sponsored   work_type  currency normalized_salary  \\\n",
      "0  1.713400e+12          0   FULL_TIME       USD           38480.0   \n",
      "1  1.713280e+12          0   FULL_TIME       USD           55000.0   \n",
      "2  1.712900e+12          0   FULL_TIME       USD          157500.0   \n",
      "3  1.713460e+12          0  INTERNSHIP       USD           35360.0   \n",
      "4  1.712860e+12          0    CONTRACT       USD          180000.0   \n",
      "5  1.713460e+12          0   FULL_TIME       USD           65000.0   \n",
      "6  1.712860e+12          0   FULL_TIME       USD           62500.0   \n",
      "7  1.713460e+12          0   FULL_TIME       USD           53268.0   \n",
      "8  1.713550e+12          0   FULL_TIME       USD          100000.0   \n",
      "9  1.712440e+12          0   FULL_TIME       USD          120000.0   \n",
      "\n",
      "  Cluster_KMeans Cluster_DBSCAN  Outlier_Flag  Cluster_GMM Cluster_Prob_GMM  \n",
      "0              0              0             0            0         0.999991  \n",
      "1              0              0             0            0         0.999993  \n",
      "2              0              0             0            0         0.999993  \n",
      "3              2              1             0            2         1.000000  \n",
      "4              2              2             0            2         1.000000  \n",
      "5              0              0             0            0         0.999994  \n",
      "6              0              0             0            0         0.999994  \n",
      "7              0              0             0            0         0.999993  \n",
      "8              0              0             0            0         0.999995  \n",
      "9              0              0             0            0         0.999995  \n",
      "\n",
      "[10 rows x 27 columns]\n"
     ]
    }
   ],
   "source": [
    "# 1. Kết hợp các cột mới vào dữ liệu gốc\n",
    "df_augmented = df.copy()  # Tạo bản sao của df gốc\n",
    "\n",
    "# 2. Thêm các cột từ kết quả phân cụm vào df gốc\n",
    "df_augmented['Cluster_KMeans'] = df_filtered['Cluster_KMeans']\n",
    "df_augmented['Cluster_DBSCAN'] = df_filtered['Cluster_DBSCAN']\n",
    "df_augmented['Outlier_Flag'] = df_filtered['Outlier_Flag']\n",
    "df_augmented['Cluster_GMM'] = df_filtered['Cluster_GMM']\n",
    "df_augmented['Cluster_Prob_GMM'] = df_filtered['Cluster_Prob_GMM']\n",
    "\n",
    "# 3. Kiểm tra lại dữ liệu đã được kết hợp\n",
    "print(df_augmented.head(10))"
   ]
  }
 ],
 "metadata": {
  "kernelspec": {
   "display_name": "Python 3",
   "language": "python",
   "name": "python3"
  },
  "language_info": {
   "codemirror_mode": {
    "name": "ipython",
    "version": 3
   },
   "file_extension": ".py",
   "mimetype": "text/x-python",
   "name": "python",
   "nbconvert_exporter": "python",
   "pygments_lexer": "ipython3",
   "version": "3.11.5"
  }
 },
 "nbformat": 4,
 "nbformat_minor": 5
}
